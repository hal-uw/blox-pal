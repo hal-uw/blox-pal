{
 "cells": [
  {
   "cell_type": "code",
   "execution_count": 5,
   "id": "673aa2b3-cca2-42a7-9bf5-9d5d2257d832",
   "metadata": {},
   "outputs": [
    {
     "name": "stdout",
     "output_type": "stream",
     "text": [
      "    name   model_name  time  num_iters  num_replicas\n",
      "0      1        res18    33       9447             1\n",
      "1      2        res50    41       9971             1\n",
      "2      3   shufflenet   153       1244             1\n",
      "3      4  transformer   239       1942             2\n",
      "4      5  transformer   256       5782             2\n",
      "5      6        res50   297       7527             1\n",
      "6      7      alexnet   332       3862             1\n",
      "7      8        res50   395       1418             2\n",
      "8      9   shufflenet   488       1767             1\n",
      "9     10   shufflenet   493       2815             1\n",
      "10    11  transformer   494        895             8\n",
      "11    12   shufflenet   602       1767             1\n",
      "12    13  transformer   636       1942             2\n",
      "13    14        res18   722       3164             1\n",
      "14    15  transformer   722       8400             2\n",
      "15    16        res18   757      16604             1\n",
      "16    17   shufflenet   833      15905             2\n",
      "17    18  transformer   848       2989             2\n",
      "18    19      alexnet  1022       2116             1\n",
      "19    20   shufflenet  1161       2291             2\n",
      "20    21      alexnet  1162       4036             2\n",
      "21    22   shufflenet  1163       3513             1\n",
      "22    23        res50  1209       4036             2\n",
      "23    24        res50  1376       1593             1\n",
      "24    25      alexnet  1404       3338             1\n",
      "25    26        res50  1418       6829             1\n",
      "26    27   shufflenet  1450        720             2\n",
      "27    28      alexnet  1451       3862             1\n",
      "28    29        res18  1466       1244             2\n",
      "29    30        res18  1500       3687             2\n",
      "30    31  transformer  1541       4036             2\n",
      "31    32  transformer  1556       4036             4\n",
      "32    33   shufflenet  1571       4036             1\n",
      "33    34  transformer  1585      17651             2\n",
      "34    35   shufflenet  1621        720             1\n",
      "35    36      alexnet  1641        895             4\n",
      "36    37        res18  1642       5782             2\n",
      "37    38      alexnet  1751       8575             1\n",
      "38    39   shufflenet  1799       4211             1\n",
      "39    40        res50  1860       5956             1\n",
      "40    41        res18  1872       7702             4\n",
      "41    42   shufflenet  2165       8225             1\n",
      "42    43  transformer  2282       1244             2\n",
      "43    44        res18  2289      16778             1\n",
      "44    45      alexnet  2313      14335             1\n",
      "45    46        res18  2389       1069             1\n",
      "46    47   shufflenet  2463       4211             1\n",
      "47    48   shufflenet  2628        720             1\n",
      "48    49   shufflenet  2660       1418             1\n",
      "49    50   shufflenet  2766       1593             4\n"
     ]
    }
   ],
   "source": [
    "import pandas as pd\n",
    "import csv\n",
    "\n",
    "df = pd.read_csv(\"poisson_shockwave_trace/poisson_trace_50+1.0.csv\")\n",
    "\n",
    "# Rearrange columns\n",
    "df_reordered = df[['job_id', 'model', 'submit_time', 'duration', 'num_gpus']].copy()\n",
    "df_reordered.rename(columns={'job_id': 'name', 'model': 'model_name', 'submit_time': 'time', 'duration': 'num_iters', 'num_gpus': 'num_replicas'}, inplace=True)\n",
    "\n",
    "\n",
    "print(df_reordered)\n",
    "\n",
    "# Save to CSV\n",
    "\n",
    "df_reordered.to_csv('poisson_trace_50_lam1.csv', index=False)"
   ]
  },
  {
   "cell_type": "code",
   "execution_count": null,
   "id": "1029aa56-04cb-4415-8134-552b11b97c9e",
   "metadata": {},
   "outputs": [],
   "source": []
  }
 ],
 "metadata": {
  "kernelspec": {
   "display_name": "Python 3",
   "language": "python",
   "name": "python3"
  },
  "language_info": {
   "codemirror_mode": {
    "name": "ipython",
    "version": 3
   },
   "file_extension": ".py",
   "mimetype": "text/x-python",
   "name": "python",
   "nbconvert_exporter": "python",
   "pygments_lexer": "ipython3",
   "version": "3.8.8"
  }
 },
 "nbformat": 4,
 "nbformat_minor": 5
}
