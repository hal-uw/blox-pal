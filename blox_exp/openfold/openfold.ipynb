{
 "cells": [
  {
   "cell_type": "code",
   "execution_count": null,
   "id": "cutting-packet",
   "metadata": {},
   "outputs": [
    {
     "name": "stdout",
     "output_type": "stream",
     "text": [
      "[2024-04-18 09:07:22,506] [INFO] [real_accelerator.py:161:get_accelerator] Setting ds_accelerator to cuda (auto detect)\n",
      "Global seed set to 7152022\n",
      "GPU available: True, used: True\n",
      "TPU available: False, using: 0 TPU cores\n",
      "IPU available: False, using: 0 IPUs\n",
      "[2024-04-18 09:07:40,494] [INFO] [real_accelerator.py:161:get_accelerator] Setting ds_accelerator to cuda (auto detect)\n",
      "Global seed set to 7152022\n",
      "[2024-04-18 09:07:44,064] [INFO] [real_accelerator.py:161:get_accelerator] Setting ds_accelerator to cuda (auto detect)\n",
      "[2024-04-18 09:07:46,643] [INFO] [real_accelerator.py:161:get_accelerator] Setting ds_accelerator to cuda (auto detect)\n",
      "Global seed set to 7152022\n",
      "Global seed set to 7152022\n",
      "initializing deepspeed distributed: GLOBAL_RANK: 0, MEMBER: 1/4\n",
      "Global seed set to 7152022\n",
      "Global seed set to 7152022\n",
      "initializing deepspeed distributed: GLOBAL_RANK: 1, MEMBER: 2/4\n",
      "Global seed set to 7152022\n",
      "initializing deepspeed distributed: GLOBAL_RANK: 2, MEMBER: 3/4\n",
      "Global seed set to 7152022\n",
      "initializing deepspeed distributed: GLOBAL_RANK: 3, MEMBER: 4/4\n",
      "/opt/conda/lib/python3.9/site-packages/pytorch_lightning/core/datamodule.py:469: LightningDeprecationWarning: DataModule.setup has already been called, so it will not be called again. In v1.6 this behavior will change to always call DataModule.setup.\n",
      "  rank_zero_deprecation(\n",
      "LOCAL_RANK: 2 - CUDA_VISIBLE_DEVICES: [0,1,2,3]\n",
      "LOCAL_RANK: 3 - CUDA_VISIBLE_DEVICES: [0,1,2,3]\n",
      "LOCAL_RANK: 0 - CUDA_VISIBLE_DEVICES: [0,1,2,3]\n",
      "LOCAL_RANK: 1 - CUDA_VISIBLE_DEVICES: [0,1,2,3]\n",
      "You have not specified an optimizer or scheduler within the DeepSpeed config. Using `configure_optimizers` to define optimizer and scheduler.\n",
      "Set SLURM handle signals.\n",
      "Set SLURM handle signals.\n",
      "Set SLURM handle signals.\n",
      "Set SLURM handle signals.\n",
      "\n",
      "  | Name  | Type          | Params\n",
      "----------------------------------------\n",
      "0 | model | AlphaFold     | 93.2 M\n",
      "1 | loss  | AlphaFoldLoss | 0     \n",
      "----------------------------------------\n",
      "93.2 M    Trainable params\n",
      "0         Non-trainable params\n",
      "93.2 M    Total params\n",
      "372.916   Total estimated model params size (MB)\n",
      "Epoch 0:   0%|                                        | 0/32045 [00:00<?, ?it/s]WARNING:root:The exact sequence RFAPDQPRKGADILVEALERQGVETVFAYPGGASMEIHQALTRSSSIRNVLPRHEQGGVFAAEGYARSSGKPGICIATSGPGATNLVSGLADALLDSVPLVAITGQVPRRMIGTDAFQETPIVEVTRSITKHNYLVMDVEDIPRIIEEAFFLATSGRPGPVLVDVPKDIQQQLAIPNWEQAMRLPGYMSRMPKPPEDSHLEQIVRLISESKKPVLYVGGGCLNSSDELGRFVELTGIPVATTLMGLGSYPADDELSLHMLGMHGTVYANYAVEHSDLLLAFGVRFDDRVTGKLEAFASRAKIVHIDIDSAEIGKNKTPHVSVCGDVKLALQGMNKVLENRAEELKLDFGVWRNELNVQKQKFPLSFKTFGEAIPPQYAIKVLDELTDGKAIISTGVGQHQMWAAQFYNYKKPRQWLSSGGLGAMGFGLPAAIGASVANPDAIVVDIDGDGSFIMNVQELATIRVENLPVKVLLLNNQHLGMVMQWEDRFYKANRAHTFLGDPAQEDEIFPNMLLFAAACGIPAARVTKKADLREAIQTMLDTPGPYLLDVICPHQEHVLP was not found in 3ea4_A. Realigning the template to the actual sequence.\n",
      "Epoch 0:   0%|       | 4/32045 [19:32<2608:28:28, 293.08s/it, loss=84.5, v_num=]"
     ]
    }
   ],
   "source": [
    "! apptainer exec --nv /scratch1/00946/zzhang/container/openfold_0.1.sif ./run.sh"
   ]
  },
  {
   "cell_type": "code",
   "execution_count": null,
   "id": "bound-storm",
   "metadata": {},
   "outputs": [],
   "source": []
  }
 ],
 "metadata": {
  "kernelspec": {
   "display_name": "Python 3",
   "language": "python",
   "name": "python3"
  },
  "language_info": {
   "codemirror_mode": {
    "name": "ipython",
    "version": 3
   },
   "file_extension": ".py",
   "mimetype": "text/x-python",
   "name": "python",
   "nbconvert_exporter": "python",
   "pygments_lexer": "ipython3",
   "version": "3.9.2"
  }
 },
 "nbformat": 4,
 "nbformat_minor": 5
}
